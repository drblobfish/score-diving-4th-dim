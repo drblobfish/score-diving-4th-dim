{
 "cells": [
  {
   "cell_type": "markdown",
   "metadata": {
    "id": "-lhOu2uJiQTb"
   },
   "source": [
    "In this notebook, we aim at computing score function assessing the way participants sorted the shapes on the slots\n",
    "\n",
    "\n",
    "-------------------\n",
    "\n",
    "\n",
    "# import and settings"
   ]
  },
  {
   "cell_type": "code",
   "execution_count": 2,
   "metadata": {
    "executionInfo": {
     "elapsed": 3,
     "status": "ok",
     "timestamp": 1652263786669,
     "user": {
      "displayName": "jules herrmann",
      "userId": "12293879718260906724"
     },
     "user_tz": -120
    },
    "id": "-prEjNnD_I_0"
   },
   "outputs": [],
   "source": [
    "import pandas as pd\n",
    "import numpy as np\n",
    "import os\n",
    "import seaborn as sns"
   ]
  },
  {
   "cell_type": "markdown",
   "metadata": {
    "id": "Tlm0f_o_AKAi"
   },
   "source": [
    "# Import clean csv"
   ]
  },
  {
   "cell_type": "code",
   "execution_count": 3,
   "metadata": {
    "executionInfo": {
     "elapsed": 393,
     "status": "ok",
     "timestamp": 1652263788550,
     "user": {
      "displayName": "jules herrmann",
      "userId": "12293879718260906724"
     },
     "user_tz": -120
    },
    "id": "smKa3eHsAcMm"
   },
   "outputs": [],
   "source": [
    "path = \"\"\n",
    "slotsDf = pd.read_csv(os.path.join(path, \"clean-data/slots.csv\"))\n",
    "participantsDf = pd.read_csv(os.path.join(path, \"clean-data/participants.csv\"))\n",
    "focusTimesDf = pd.read_csv(os.path.join(path, \"clean-data/focusTimes.csv\"))\n",
    "expDf = pd.read_csv(os.path.join(path, \"clean-data/experiments.csv\"))"
   ]
  },
  {
   "cell_type": "markdown",
   "metadata": {
    "id": "qZCAy0kkOQ02"
   },
   "source": [
    "# number of true answer"
   ]
  },
  {
   "cell_type": "markdown",
   "metadata": {
    "id": "LjihHIqPi6fK"
   },
   "source": [
    "# True answer proportion\n",
    "\n",
    "we will here compute the proportion of true answers, no matter their position on the slots.\n",
    "\n",
    "For example, someone that did\n",
    "\n",
    "> true 1 ; true 4 ; false 4 ; true 2 ; false 5 ; false 7 ; false 3\n",
    "\n",
    "will have a trueProp of $\\frac{3}{7}$"
   ]
  },
  {
   "cell_type": "code",
   "execution_count": 59,
   "metadata": {
    "executionInfo": {
     "elapsed": 428,
     "status": "ok",
     "timestamp": 1652263792048,
     "user": {
      "displayName": "jules herrmann",
      "userId": "12293879718260906724"
     },
     "user_tz": -120
    },
    "id": "Hzt4JKDgjLsi"
   },
   "outputs": [],
   "source": [
    "expDf =(expDf\n",
    "  .set_index([\"participantId\",\"device\",\"datasetId\"])\n",
    "  .join\n",
    "  (slotsDf\n",
    "    .groupby(['participantId', 'device', 'datasetId'])\n",
    "    .mean()\n",
    "    ['isTrue']\n",
    "    .rename(\"trueProp\"))\n",
    "  .reset_index())"
   ]
  },
  {
   "cell_type": "markdown",
   "metadata": {},
   "source": [
    "we will also save here the absolute number of true answsers"
   ]
  },
  {
   "cell_type": "code",
   "execution_count": 58,
   "metadata": {
    "executionInfo": {
     "elapsed": 3,
     "status": "ok",
     "timestamp": 1652263789867,
     "user": {
      "displayName": "jules herrmann",
      "userId": "12293879718260906724"
     },
     "user_tz": -120
    },
    "id": "LDofdpvmOQlI"
   },
   "outputs": [],
   "source": [
    "expDf = (expDf\n",
    "  .set_index([\"participantId\",\"device\",\"datasetId\"])\n",
    "  .join\n",
    "  (slotsDf\n",
    "    .groupby(['participantId', 'device', 'datasetId'])\n",
    "    .sum()\n",
    "    ['isTrue']\n",
    "    .rename(\"nbTrue\"))\n",
    "  .reset_index())"
   ]
  },
  {
   "cell_type": "markdown",
   "metadata": {
    "id": "DKM-0yJzB-n5"
   },
   "source": [
    "# Max Streak\n",
    "\n",
    "The max streak function computes the longest ordered row of \"trues\" or \"falses\" that can be found in one set of submitted answers."
   ]
  },
  {
   "cell_type": "code",
   "execution_count": 61,
   "metadata": {
    "executionInfo": {
     "elapsed": 3,
     "status": "ok",
     "timestamp": 1652263794558,
     "user": {
      "displayName": "jules herrmann",
      "userId": "12293879718260906724"
     },
     "user_tz": -120
    },
    "id": "_83E36JicfHn"
   },
   "outputs": [],
   "source": [
    "def compute_max_streak(dataFrame, condition = True, direction=\"forward\") -> int:\n",
    "  \"\"\"Condition filters for True or False i the anwsers. Can accept three direction: forward, backward, both\"\"\"\n",
    "  diffDf = [1]\n",
    "  for i in range(1,len(dataFrame)):\n",
    "      if dataFrame[\"isTrue\"].values[i] == condition :\n",
    "        diffDf.append(dataFrame[\"answerId\"].values[i] - dataFrame[\"answerId\"].values[i-1])\n",
    "      else:\n",
    "        diffDf.append(0)\n",
    "  \n",
    "  maxStreak = currentStreak = 0\n",
    "  for d in diffDf:\n",
    "      if direction == \"both\":\n",
    "        d = np.abs(d)\n",
    "      if direction == \"backward\":\n",
    "        d += 2\n",
    "      if d == 1:\n",
    "        currentStreak += 1\n",
    "        maxStreak = max(maxStreak, currentStreak)\n",
    "      else:\n",
    "        currentStreak = 0\n",
    "  return maxStreak"
   ]
  },
  {
   "cell_type": "code",
   "execution_count": 62,
   "metadata": {
    "executionInfo": {
     "elapsed": 320,
     "status": "ok",
     "timestamp": 1652263805385,
     "user": {
      "displayName": "jules herrmann",
      "userId": "12293879718260906724"
     },
     "user_tz": -120
    },
    "id": "SZOr4LJMdZvw"
   },
   "outputs": [],
   "source": [
    "expDf = (expDf\n",
    "  .set_index([\"participantId\",\"device\",\"datasetId\"])\n",
    "  .join\n",
    "    (slotsDf\n",
    "      .groupby(['participantId', 'device', 'datasetId'], as_index=False)\n",
    "      .apply(compute_max_streak, True,\"forward\")\n",
    "      .set_index([\"participantId\",\"device\",\"datasetId\"])[None]\n",
    "      .rename(\"maxTrueStreak\"))\n",
    "  .reset_index())"
   ]
  },
  {
   "cell_type": "code",
   "execution_count": 63,
   "metadata": {
    "executionInfo": {
     "elapsed": 3,
     "status": "ok",
     "timestamp": 1652263806956,
     "user": {
      "displayName": "jules herrmann",
      "userId": "12293879718260906724"
     },
     "user_tz": -120
    },
    "id": "68Ty00A6ExXL"
   },
   "outputs": [],
   "source": [
    "expDf = (expDf\n",
    "  .set_index([\"participantId\",\"device\",\"datasetId\"])\n",
    "  .join\n",
    "    (slotsDf\n",
    "      .groupby(['participantId', 'device', 'datasetId'], as_index=False)\n",
    "      .apply(compute_max_streak, True,\"both\")\n",
    "      .set_index([\"participantId\",\"device\",\"datasetId\"])[None]\n",
    "      .rename(\"maxTrueStreakBoth\"))\n",
    "  .reset_index())"
   ]
  },
  {
   "cell_type": "code",
   "execution_count": 64,
   "metadata": {
    "executionInfo": {
     "elapsed": 442,
     "status": "ok",
     "timestamp": 1652263810493,
     "user": {
      "displayName": "jules herrmann",
      "userId": "12293879718260906724"
     },
     "user_tz": -120
    },
    "id": "oH97B3ackrae"
   },
   "outputs": [],
   "source": [
    "expDf = (expDf\n",
    "  .set_index([\"participantId\",\"device\",\"datasetId\"])\n",
    "  .join\n",
    "    (slotsDf\n",
    "      .groupby(['participantId', 'device', 'datasetId'], as_index=False)\n",
    "      .apply(compute_max_streak, False,\"both\")\n",
    "      .set_index([\"participantId\",\"device\",\"datasetId\"])[None]\n",
    "      .rename(\"maxFalseStreakBoth\"))\n",
    "  .reset_index())"
   ]
  },
  {
   "cell_type": "markdown",
   "metadata": {
    "id": "Wh-_RwM5jngF"
   },
   "source": [
    "# Veracity scoring\n",
    "Grades the distance to the perfect answer by looking at the trues' distance to their ideal position and considering that a false is equivalent to having a true at maximal distance from its assigned slot (here 7).\n",
    "\n",
    "Let $X$ be the how the participant sorted the shapes\n",
    "\n",
    "$$\\text{VeracityScore}( X ) = \\frac{\\underset{x \\in X}{\\sum} f(x) - 7^2}{7^2}$$\n",
    "\n",
    "With\n",
    "$$f(x) = \\left\\{ \\begin{array}{c}\n",
    "\\left| \\text{pos}(x) - \\text{target}(x) \\right| & \\text{if } x \\text{ is true} \\\\\n",
    "7 & \\text{else}\\\\\n",
    "\\end{array}\\right.$$"
   ]
  },
  {
   "cell_type": "code",
   "execution_count": 65,
   "metadata": {
    "executionInfo": {
     "elapsed": 532,
     "status": "ok",
     "timestamp": 1652263814574,
     "user": {
      "displayName": "jules herrmann",
      "userId": "12293879718260906724"
     },
     "user_tz": -120
    },
    "id": "qa_czspkjoy2"
   },
   "outputs": [],
   "source": [
    "def veracity_scoring(dataFrame):\n",
    "  distList = []\n",
    "  answerLen = len(dataFrame)\n",
    "  worstScore = answerLen * answerLen\n",
    "  totalDist = 0\n",
    "  for i in range(len(dataFrame)):\n",
    "    if dataFrame[\"isTrue\"].values[i]:\n",
    "      distList.append(abs(dataFrame[\"slotId\"].values[i]-dataFrame[\"answerId\"].values[i]))\n",
    "    else:\n",
    "      distList.append(answerLen)\n",
    "  for i in distList:\n",
    "    totalDist += i\n",
    "  return (worstScore - totalDist)/worstScore\n"
   ]
  },
  {
   "cell_type": "code",
   "execution_count": 66,
   "metadata": {
    "executionInfo": {
     "elapsed": 5,
     "status": "ok",
     "timestamp": 1652263815859,
     "user": {
      "displayName": "jules herrmann",
      "userId": "12293879718260906724"
     },
     "user_tz": -120
    },
    "id": "IvZp38cEn06o"
   },
   "outputs": [],
   "source": [
    "expDf = (expDf\n",
    "  .set_index([\"participantId\",\"device\",\"datasetId\"])\n",
    "  .join\n",
    "    (slotsDf\n",
    "      .groupby(['participantId', 'device', 'datasetId'], as_index=False)\n",
    "      .apply(veracity_scoring)\n",
    "      .set_index([\"participantId\",\"device\",\"datasetId\"])[None]\n",
    "      .rename(\"veracityScore\"))\n",
    "  .reset_index())"
   ]
  },
  {
   "cell_type": "markdown",
   "metadata": {
    "id": "IoIcYEFLmJBH"
   },
   "source": [
    "# Levenstein distance\n",
    "\n",
    "Here we want to compute the levenstein distance of the sequence sorted vy the participants to the perfect sequence (only true and always correctly placed)"
   ]
  },
  {
   "cell_type": "code",
   "execution_count": 67,
   "metadata": {
    "executionInfo": {
     "elapsed": 303,
     "status": "ok",
     "timestamp": 1652263818038,
     "user": {
      "displayName": "jules herrmann",
      "userId": "12293879718260906724"
     },
     "user_tz": -120
    },
    "id": "inRRhW-Se-Tn"
   },
   "outputs": [],
   "source": [
    "def levenDistIter(seq1,seq2,distScore):\n",
    "  a = np.zeros((len(seq1)+1,len(seq2)+1), dtype = np.int32)\n",
    "  for i in range(len(seq1)+1): # for each element of the matrix\n",
    "    for j in range(len(seq2)+1): \n",
    "      if i == 0 : # first line\n",
    "        a[i][j]=j\n",
    "      elif j == 0 : # first column\n",
    "        a[i][j]=i\n",
    "      elif seq1[i-1]==seq2[j-1]: # identity\n",
    "        a[i][j]=a[i-1][j-1]\n",
    "      else: # mismatch\n",
    "        a[i][j]=np.min([a[i-1][j]+ distScore['del'], #deletion\n",
    "                        a[i][j-1] + distScore['ins'] , # insertion\n",
    "                        a[i-1][j-1] + distScore['sub']]) # substitution\n",
    "\n",
    "  return a[-1][-1]\n",
    "\n",
    "classicDistScore = {\n",
    "    'sub' : 1,\n",
    "    'del' : 1,\n",
    "    'ins' : 1\n",
    "}"
   ]
  },
  {
   "cell_type": "code",
   "execution_count": 68,
   "metadata": {
    "executionInfo": {
     "elapsed": 5,
     "status": "ok",
     "timestamp": 1652263819348,
     "user": {
      "displayName": "jules herrmann",
      "userId": "12293879718260906724"
     },
     "user_tz": -120
    },
    "id": "kU8shTjUOEnO"
   },
   "outputs": [],
   "source": [
    "def compLevenDist(myExp : pd.DataFrame) -> int :\n",
    "  participantSequence = list(zip(myExp[\"isTrue\"], myExp[\"answerId\"]))\n",
    "  perfectSequence = [(True,i+1) for i in range(7) ]\n",
    "  return levenDistIter(participantSequence,perfectSequence,classicDistScore)"
   ]
  },
  {
   "cell_type": "code",
   "execution_count": 69,
   "metadata": {
    "executionInfo": {
     "elapsed": 4,
     "status": "ok",
     "timestamp": 1652263820600,
     "user": {
      "displayName": "jules herrmann",
      "userId": "12293879718260906724"
     },
     "user_tz": -120
    },
    "id": "oYdMJ4J4OKkP"
   },
   "outputs": [],
   "source": [
    "expDf = (expDf\n",
    "  .set_index([\"participantId\",\"device\",\"datasetId\"])\n",
    "  .join(\n",
    "    slotsDf\n",
    "    .groupby([\"participantId\",\"device\",\"datasetId\"])\n",
    "    .apply(compLevenDist)\n",
    "    .rename(\"levenDist\"))\n",
    "  .reset_index())"
   ]
  },
  {
   "cell_type": "code",
   "execution_count": 70,
   "metadata": {
    "executionInfo": {
     "elapsed": 4,
     "status": "ok",
     "timestamp": 1652263822034,
     "user": {
      "displayName": "jules herrmann",
      "userId": "12293879718260906724"
     },
     "user_tz": -120
    },
    "id": "pbQMweUeQyH7"
   },
   "outputs": [],
   "source": [
    "scoresDf = expDf.drop([\"pauseTime\",\"sortingTime\",\"time\",\"experimentOrder\"],axis=1)"
   ]
  },
  {
   "cell_type": "code",
   "execution_count": 71,
   "metadata": {
    "colab": {
     "base_uri": "https://localhost:8080/",
     "height": 424
    },
    "executionInfo": {
     "elapsed": 8,
     "status": "ok",
     "timestamp": 1652263823269,
     "user": {
      "displayName": "jules herrmann",
      "userId": "12293879718260906724"
     },
     "user_tz": -120
    },
    "id": "wkUlREFpz7Sf",
    "outputId": "78c6149d-d406-4c7b-daf6-f26e7533c1a9"
   },
   "outputs": [
    {
     "data": {
      "text/html": [
       "\n",
       "  <div id=\"df-d50dc8b4-6d13-4b42-879d-e5800378a391\">\n",
       "    <div class=\"colab-df-container\">\n",
       "      <div>\n",
       "<style scoped>\n",
       "    .dataframe tbody tr th:only-of-type {\n",
       "        vertical-align: middle;\n",
       "    }\n",
       "\n",
       "    .dataframe tbody tr th {\n",
       "        vertical-align: top;\n",
       "    }\n",
       "\n",
       "    .dataframe thead th {\n",
       "        text-align: right;\n",
       "    }\n",
       "</style>\n",
       "<table border=\"1\" class=\"dataframe\">\n",
       "  <thead>\n",
       "    <tr style=\"text-align: right;\">\n",
       "      <th></th>\n",
       "      <th>participantId</th>\n",
       "      <th>device</th>\n",
       "      <th>datasetId</th>\n",
       "      <th>nbTrue</th>\n",
       "      <th>trueProp</th>\n",
       "      <th>maxTrueStreak</th>\n",
       "      <th>maxTrueStreakBoth</th>\n",
       "      <th>maxFalseStreakBoth</th>\n",
       "      <th>veracityScore</th>\n",
       "      <th>levenDist</th>\n",
       "    </tr>\n",
       "  </thead>\n",
       "  <tbody>\n",
       "    <tr>\n",
       "      <th>0</th>\n",
       "      <td>16</td>\n",
       "      <td>VR</td>\n",
       "      <td>1</td>\n",
       "      <td>6</td>\n",
       "      <td>0.857143</td>\n",
       "      <td>1</td>\n",
       "      <td>1</td>\n",
       "      <td>1</td>\n",
       "      <td>0.653061</td>\n",
       "      <td>5</td>\n",
       "    </tr>\n",
       "    <tr>\n",
       "      <th>1</th>\n",
       "      <td>16</td>\n",
       "      <td>VR</td>\n",
       "      <td>2</td>\n",
       "      <td>4</td>\n",
       "      <td>0.571429</td>\n",
       "      <td>1</td>\n",
       "      <td>1</td>\n",
       "      <td>1</td>\n",
       "      <td>0.244898</td>\n",
       "      <td>7</td>\n",
       "    </tr>\n",
       "    <tr>\n",
       "      <th>2</th>\n",
       "      <td>13</td>\n",
       "      <td>VR</td>\n",
       "      <td>2</td>\n",
       "      <td>3</td>\n",
       "      <td>0.428571</td>\n",
       "      <td>1</td>\n",
       "      <td>1</td>\n",
       "      <td>1</td>\n",
       "      <td>0.387755</td>\n",
       "      <td>5</td>\n",
       "    </tr>\n",
       "    <tr>\n",
       "      <th>3</th>\n",
       "      <td>13</td>\n",
       "      <td>VR</td>\n",
       "      <td>1</td>\n",
       "      <td>5</td>\n",
       "      <td>0.714286</td>\n",
       "      <td>1</td>\n",
       "      <td>1</td>\n",
       "      <td>1</td>\n",
       "      <td>0.530612</td>\n",
       "      <td>5</td>\n",
       "    </tr>\n",
       "    <tr>\n",
       "      <th>4</th>\n",
       "      <td>13</td>\n",
       "      <td>Comp</td>\n",
       "      <td>1</td>\n",
       "      <td>3</td>\n",
       "      <td>0.428571</td>\n",
       "      <td>1</td>\n",
       "      <td>1</td>\n",
       "      <td>3</td>\n",
       "      <td>0.224490</td>\n",
       "      <td>7</td>\n",
       "    </tr>\n",
       "    <tr>\n",
       "      <th>...</th>\n",
       "      <td>...</td>\n",
       "      <td>...</td>\n",
       "      <td>...</td>\n",
       "      <td>...</td>\n",
       "      <td>...</td>\n",
       "      <td>...</td>\n",
       "      <td>...</td>\n",
       "      <td>...</td>\n",
       "      <td>...</td>\n",
       "      <td>...</td>\n",
       "    </tr>\n",
       "    <tr>\n",
       "      <th>85</th>\n",
       "      <td>15</td>\n",
       "      <td>Comp</td>\n",
       "      <td>2</td>\n",
       "      <td>4</td>\n",
       "      <td>0.571429</td>\n",
       "      <td>1</td>\n",
       "      <td>1</td>\n",
       "      <td>1</td>\n",
       "      <td>0.326531</td>\n",
       "      <td>7</td>\n",
       "    </tr>\n",
       "    <tr>\n",
       "      <th>86</th>\n",
       "      <td>15</td>\n",
       "      <td>Comp</td>\n",
       "      <td>1</td>\n",
       "      <td>4</td>\n",
       "      <td>0.571429</td>\n",
       "      <td>1</td>\n",
       "      <td>1</td>\n",
       "      <td>1</td>\n",
       "      <td>0.346939</td>\n",
       "      <td>7</td>\n",
       "    </tr>\n",
       "    <tr>\n",
       "      <th>87</th>\n",
       "      <td>16</td>\n",
       "      <td>Comp</td>\n",
       "      <td>1</td>\n",
       "      <td>5</td>\n",
       "      <td>0.714286</td>\n",
       "      <td>1</td>\n",
       "      <td>2</td>\n",
       "      <td>1</td>\n",
       "      <td>0.591837</td>\n",
       "      <td>6</td>\n",
       "    </tr>\n",
       "    <tr>\n",
       "      <th>88</th>\n",
       "      <td>16</td>\n",
       "      <td>Comp</td>\n",
       "      <td>2</td>\n",
       "      <td>2</td>\n",
       "      <td>0.285714</td>\n",
       "      <td>1</td>\n",
       "      <td>1</td>\n",
       "      <td>1</td>\n",
       "      <td>0.204082</td>\n",
       "      <td>7</td>\n",
       "    </tr>\n",
       "    <tr>\n",
       "      <th>89</th>\n",
       "      <td>13</td>\n",
       "      <td>Comp</td>\n",
       "      <td>2</td>\n",
       "      <td>3</td>\n",
       "      <td>0.428571</td>\n",
       "      <td>1</td>\n",
       "      <td>1</td>\n",
       "      <td>1</td>\n",
       "      <td>0.285714</td>\n",
       "      <td>7</td>\n",
       "    </tr>\n",
       "  </tbody>\n",
       "</table>\n",
       "<p>90 rows × 10 columns</p>\n",
       "</div>\n",
       "      <button class=\"colab-df-convert\" onclick=\"convertToInteractive('df-d50dc8b4-6d13-4b42-879d-e5800378a391')\"\n",
       "              title=\"Convert this dataframe to an interactive table.\"\n",
       "              style=\"display:none;\">\n",
       "        \n",
       "  <svg xmlns=\"http://www.w3.org/2000/svg\" height=\"24px\"viewBox=\"0 0 24 24\"\n",
       "       width=\"24px\">\n",
       "    <path d=\"M0 0h24v24H0V0z\" fill=\"none\"/>\n",
       "    <path d=\"M18.56 5.44l.94 2.06.94-2.06 2.06-.94-2.06-.94-.94-2.06-.94 2.06-2.06.94zm-11 1L8.5 8.5l.94-2.06 2.06-.94-2.06-.94L8.5 2.5l-.94 2.06-2.06.94zm10 10l.94 2.06.94-2.06 2.06-.94-2.06-.94-.94-2.06-.94 2.06-2.06.94z\"/><path d=\"M17.41 7.96l-1.37-1.37c-.4-.4-.92-.59-1.43-.59-.52 0-1.04.2-1.43.59L10.3 9.45l-7.72 7.72c-.78.78-.78 2.05 0 2.83L4 21.41c.39.39.9.59 1.41.59.51 0 1.02-.2 1.41-.59l7.78-7.78 2.81-2.81c.8-.78.8-2.07 0-2.86zM5.41 20L4 18.59l7.72-7.72 1.47 1.35L5.41 20z\"/>\n",
       "  </svg>\n",
       "      </button>\n",
       "      \n",
       "  <style>\n",
       "    .colab-df-container {\n",
       "      display:flex;\n",
       "      flex-wrap:wrap;\n",
       "      gap: 12px;\n",
       "    }\n",
       "\n",
       "    .colab-df-convert {\n",
       "      background-color: #E8F0FE;\n",
       "      border: none;\n",
       "      border-radius: 50%;\n",
       "      cursor: pointer;\n",
       "      display: none;\n",
       "      fill: #1967D2;\n",
       "      height: 32px;\n",
       "      padding: 0 0 0 0;\n",
       "      width: 32px;\n",
       "    }\n",
       "\n",
       "    .colab-df-convert:hover {\n",
       "      background-color: #E2EBFA;\n",
       "      box-shadow: 0px 1px 2px rgba(60, 64, 67, 0.3), 0px 1px 3px 1px rgba(60, 64, 67, 0.15);\n",
       "      fill: #174EA6;\n",
       "    }\n",
       "\n",
       "    [theme=dark] .colab-df-convert {\n",
       "      background-color: #3B4455;\n",
       "      fill: #D2E3FC;\n",
       "    }\n",
       "\n",
       "    [theme=dark] .colab-df-convert:hover {\n",
       "      background-color: #434B5C;\n",
       "      box-shadow: 0px 1px 3px 1px rgba(0, 0, 0, 0.15);\n",
       "      filter: drop-shadow(0px 1px 2px rgba(0, 0, 0, 0.3));\n",
       "      fill: #FFFFFF;\n",
       "    }\n",
       "  </style>\n",
       "\n",
       "      <script>\n",
       "        const buttonEl =\n",
       "          document.querySelector('#df-d50dc8b4-6d13-4b42-879d-e5800378a391 button.colab-df-convert');\n",
       "        buttonEl.style.display =\n",
       "          google.colab.kernel.accessAllowed ? 'block' : 'none';\n",
       "\n",
       "        async function convertToInteractive(key) {\n",
       "          const element = document.querySelector('#df-d50dc8b4-6d13-4b42-879d-e5800378a391');\n",
       "          const dataTable =\n",
       "            await google.colab.kernel.invokeFunction('convertToInteractive',\n",
       "                                                     [key], {});\n",
       "          if (!dataTable) return;\n",
       "\n",
       "          const docLinkHtml = 'Like what you see? Visit the ' +\n",
       "            '<a target=\"_blank\" href=https://colab.research.google.com/notebooks/data_table.ipynb>data table notebook</a>'\n",
       "            + ' to learn more about interactive tables.';\n",
       "          element.innerHTML = '';\n",
       "          dataTable['output_type'] = 'display_data';\n",
       "          await google.colab.output.renderOutput(dataTable, element);\n",
       "          const docLink = document.createElement('div');\n",
       "          docLink.innerHTML = docLinkHtml;\n",
       "          element.appendChild(docLink);\n",
       "        }\n",
       "      </script>\n",
       "    </div>\n",
       "  </div>\n",
       "  "
      ],
      "text/plain": [
       "    participantId device  datasetId  nbTrue  trueProp  maxTrueStreak  \\\n",
       "0              16     VR          1       6  0.857143              1   \n",
       "1              16     VR          2       4  0.571429              1   \n",
       "2              13     VR          2       3  0.428571              1   \n",
       "3              13     VR          1       5  0.714286              1   \n",
       "4              13   Comp          1       3  0.428571              1   \n",
       "..            ...    ...        ...     ...       ...            ...   \n",
       "85             15   Comp          2       4  0.571429              1   \n",
       "86             15   Comp          1       4  0.571429              1   \n",
       "87             16   Comp          1       5  0.714286              1   \n",
       "88             16   Comp          2       2  0.285714              1   \n",
       "89             13   Comp          2       3  0.428571              1   \n",
       "\n",
       "    maxTrueStreakBoth  maxFalseStreakBoth  veracityScore  levenDist  \n",
       "0                   1                   1       0.653061          5  \n",
       "1                   1                   1       0.244898          7  \n",
       "2                   1                   1       0.387755          5  \n",
       "3                   1                   1       0.530612          5  \n",
       "4                   1                   3       0.224490          7  \n",
       "..                ...                 ...            ...        ...  \n",
       "85                  1                   1       0.326531          7  \n",
       "86                  1                   1       0.346939          7  \n",
       "87                  2                   1       0.591837          6  \n",
       "88                  1                   1       0.204082          7  \n",
       "89                  1                   1       0.285714          7  \n",
       "\n",
       "[90 rows x 10 columns]"
      ]
     },
     "execution_count": 71,
     "metadata": {},
     "output_type": "execute_result"
    }
   ],
   "source": [
    "scoresDf"
   ]
  },
  {
   "cell_type": "code",
   "execution_count": 72,
   "metadata": {
    "executionInfo": {
     "elapsed": 727,
     "status": "ok",
     "timestamp": 1652263831358,
     "user": {
      "displayName": "jules herrmann",
      "userId": "12293879718260906724"
     },
     "user_tz": -120
    },
    "id": "YKSfN38y3NQR"
   },
   "outputs": [],
   "source": [
    "scoresDf.to_csv(os.path.join(path,\"computed-data/scores.csv\"),index=False)"
   ]
  },
  {
   "cell_type": "code",
   "execution_count": 73,
   "metadata": {
    "executionInfo": {
     "elapsed": 852,
     "status": "ok",
     "timestamp": 1652263833789,
     "user": {
      "displayName": "jules herrmann",
      "userId": "12293879718260906724"
     },
     "user_tz": -120
    },
    "id": "bJ5DN_8B3R15"
   },
   "outputs": [],
   "source": [
    "expDf.to_csv(os.path.join(path, \"computed-data/experiments+scores.csv\"), index = False)"
   ]
  },
  {
   "cell_type": "code",
   "execution_count": null,
   "metadata": {
    "id": "FW-bhwV8mUqE"
   },
   "outputs": [],
   "source": []
  }
 ],
 "metadata": {
  "colab": {
   "collapsed_sections": [
    "Wh-_RwM5jngF",
    "IoIcYEFLmJBH"
   ],
   "name": "01_scoreComputing.ipynb",
   "provenance": []
  },
  "kernelspec": {
   "display_name": "Python 3",
   "language": "python",
   "name": "python3"
  },
  "language_info": {
   "codemirror_mode": {
    "name": "ipython",
    "version": 3
   },
   "file_extension": ".py",
   "mimetype": "text/x-python",
   "name": "python",
   "nbconvert_exporter": "python",
   "pygments_lexer": "ipython3",
   "version": "3.8.10"
  }
 },
 "nbformat": 4,
 "nbformat_minor": 4
}
