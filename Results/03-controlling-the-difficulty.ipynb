{
 "cells": [
  {
   "cell_type": "markdown",
   "metadata": {
    "id": "6CiWFZbLaSXw"
   },
   "source": [
    "# model"
   ]
  },
  {
   "cell_type": "markdown",
   "metadata": {
    "id": "R65s8EYSWcG3"
   },
   "source": [
    "we want to test if the experiment was too difficult, i.e. if participant managed to do better than pure luck.\n",
    "\n",
    "Let's assume the participants guessed randomly, this is our null hypothesis.\n",
    "\n",
    "Let $(X_i)_{i\\in \\text{Exp}}$ be the numbers of true answer of the experiments i.\n",
    "\n",
    "We have $X_i \\sim \\text{HyperGeom}(N=14, K=7,n=7)$ i.i.d.\n",
    "\n",
    "We have : \n",
    "- $\\mathbb{E}(X) = \\mu = n \\frac{K}{N}$.\n",
    "- $\\mathbb{V}(X) = \\sigma = n \\frac{K}{N} \\frac{N-K}{N} \\frac{N-n}{N-1}$\n",
    "\n",
    "we notate the average number of true answers $\\bar{X} = \\frac{1}{n} \\sum X_i$\n",
    "\n",
    "By the central limit theorem,\n",
    "\n",
    "$$ T = \\sqrt{n} \\frac{\\bar{X} - \\mu }{\\sigma} \\underset{n → ∞}{\\sim} \\mathcal{N}(0,1) $$\n",
    "\n",
    "We have around 90 data points, but we will consider this approximation as valid.\n",
    "\n",
    "Our hypothesis to test is that participants did better than pure luck. We will therefore reject $H_0$ if $T>s$ with $s$ a threshold defined such that the test has a nominal value $\\alpha = 0.05$, that is $p(T>s) = \\alpha \\quad ⇔ \\quad s = q_{1-\\alpha}^{{N}(0,1)}$\n",
    "\n",
    "-----------------------\n",
    "\n",
    "We could do better by implementing an algorithm from this paper : https://www.sciencedirect.com/science/article/pii/S2215016121003009"
   ]
  },
  {
   "cell_type": "markdown",
   "metadata": {
    "id": "RJHyzsy3aP_K"
   },
   "source": [
    "# imports"
   ]
  },
  {
   "cell_type": "code",
   "execution_count": 1,
   "metadata": {
    "id": "xYoNoNHuXlIx"
   },
   "outputs": [],
   "source": [
    "import numpy as np\n",
    "import pandas as pd\n",
    "import scipy.stats as stats\n",
    "import matplotlib.pyplot as plt\n",
    "import seaborn as sns"
   ]
  },
  {
   "cell_type": "code",
   "execution_count": 2,
   "metadata": {
    "id": "7SiehNSSfjUm"
   },
   "outputs": [],
   "source": [
    "expDf = pd.read_csv(\"clean-data/experiments.csv\")\n",
    "focusDf = pd.read_csv(\"clean-data/focusTimes.csv\")\n",
    "partiDf = pd.read_csv(\"clean-data/participants.csv\")\n",
    "slotsDf = pd.read_csv(\"clean-data/slots.csv\")\n",
    "scoreDf = pd.read_csv(\"computed-data/scores.csv\")"
   ]
  },
  {
   "cell_type": "code",
   "execution_count": null,
   "metadata": {
    "id": "zsgPPJRUJnco"
   },
   "outputs": [],
   "source": [
    "expDf = (expDf\n",
    "  .set_index([\"participantId\",\"device\",\"datasetId\"])\n",
    "  .join(\n",
    "      scoreDf\n",
    "      .set_index([\"participantId\",\"device\",\"datasetId\"])\n",
    "  )\n",
    "  .reset_index())"
   ]
  },
  {
   "cell_type": "markdown",
   "metadata": {
    "id": "3gvwPGySacTz"
   },
   "source": [
    "# Constants\n",
    "\n",
    "1st, we write the constants"
   ]
  },
  {
   "cell_type": "code",
   "execution_count": null,
   "metadata": {
    "id": "hvBuAfOHGEmI"
   },
   "outputs": [],
   "source": [
    "N = 14\n",
    "K = 7\n",
    "n = 7"
   ]
  },
  {
   "cell_type": "markdown",
   "metadata": {
    "id": "N6PiuutmalST"
   },
   "source": [
    "we compute the mean and variance"
   ]
  },
  {
   "cell_type": "code",
   "execution_count": null,
   "metadata": {
    "id": "Q8uJLjzzGJJQ"
   },
   "outputs": [],
   "source": [
    "mu = n*K /N\n",
    "sigma = n * (K/N) * ((N-K)/N) * ((N-n)/(N-1))"
   ]
  },
  {
   "cell_type": "code",
   "execution_count": null,
   "metadata": {
    "colab": {
     "base_uri": "https://localhost:8080/"
    },
    "executionInfo": {
     "elapsed": 379,
     "status": "ok",
     "timestamp": 1652462184681,
     "user": {
      "displayName": "jules herrmann",
      "userId": "12293879718260906724"
     },
     "user_tz": -120
    },
    "id": "4gvD-41mGjG-",
    "outputId": "3e58e59c-3455-40ff-e985-cf0837ff5a40"
   },
   "outputs": [
    {
     "name": "stdout",
     "output_type": "stream",
     "text": [
      "mu : 3.5 sigma : 0.9423076923076923\n"
     ]
    }
   ],
   "source": [
    "print(f\"mu : {mu} sigma : {sigma}\")"
   ]
  },
  {
   "cell_type": "markdown",
   "metadata": {
    "id": "nfOA2E0gaohT"
   },
   "source": [
    "we chose a nominal value of 0.05"
   ]
  },
  {
   "cell_type": "code",
   "execution_count": null,
   "metadata": {
    "id": "tptgono6HXY-"
   },
   "outputs": [],
   "source": [
    "alpha = 0.05"
   ]
  },
  {
   "cell_type": "markdown",
   "metadata": {
    "id": "TuxNXH9zIn-m"
   },
   "source": [
    "# plotting"
   ]
  },
  {
   "cell_type": "code",
   "execution_count": null,
   "metadata": {
    "id": "JCSRvI_YJMrr"
   },
   "outputs": [],
   "source": [
    "rv = stats.hypergeom(N, K, n)\n",
    "x = np.arange(0, K+1)\n",
    "pmf_true = rv.pmf(x)"
   ]
  },
  {
   "cell_type": "code",
   "execution_count": null,
   "metadata": {
    "colab": {
     "base_uri": "https://localhost:8080/",
     "height": 238
    },
    "executionInfo": {
     "elapsed": 14,
     "status": "ok",
     "timestamp": 1652462184685,
     "user": {
      "displayName": "jules herrmann",
      "userId": "12293879718260906724"
     },
     "user_tz": -120
    },
    "id": "-FN83mgOzwj-",
    "outputId": "9673a77e-3376-40fb-be12-aacbf88bccfa"
   },
   "outputs": [
    {
     "data": {
      "text/html": [
       "\n",
       "  <div id=\"df-b3300ee0-86f6-47ed-95eb-31e69a608299\">\n",
       "    <div class=\"colab-df-container\">\n",
       "      <div>\n",
       "<style scoped>\n",
       "    .dataframe tbody tr th:only-of-type {\n",
       "        vertical-align: middle;\n",
       "    }\n",
       "\n",
       "    .dataframe tbody tr th {\n",
       "        vertical-align: top;\n",
       "    }\n",
       "\n",
       "    .dataframe thead th {\n",
       "        text-align: right;\n",
       "    }\n",
       "</style>\n",
       "<table border=\"1\" class=\"dataframe\">\n",
       "  <thead>\n",
       "    <tr style=\"text-align: right;\">\n",
       "      <th></th>\n",
       "      <th>nbTrue</th>\n",
       "    </tr>\n",
       "  </thead>\n",
       "  <tbody>\n",
       "    <tr>\n",
       "      <th>3</th>\n",
       "      <td>0.377778</td>\n",
       "    </tr>\n",
       "    <tr>\n",
       "      <th>4</th>\n",
       "      <td>0.266667</td>\n",
       "    </tr>\n",
       "    <tr>\n",
       "      <th>5</th>\n",
       "      <td>0.188889</td>\n",
       "    </tr>\n",
       "    <tr>\n",
       "      <th>2</th>\n",
       "      <td>0.100000</td>\n",
       "    </tr>\n",
       "    <tr>\n",
       "      <th>6</th>\n",
       "      <td>0.033333</td>\n",
       "    </tr>\n",
       "    <tr>\n",
       "      <th>1</th>\n",
       "      <td>0.033333</td>\n",
       "    </tr>\n",
       "  </tbody>\n",
       "</table>\n",
       "</div>\n",
       "      <button class=\"colab-df-convert\" onclick=\"convertToInteractive('df-b3300ee0-86f6-47ed-95eb-31e69a608299')\"\n",
       "              title=\"Convert this dataframe to an interactive table.\"\n",
       "              style=\"display:none;\">\n",
       "        \n",
       "  <svg xmlns=\"http://www.w3.org/2000/svg\" height=\"24px\"viewBox=\"0 0 24 24\"\n",
       "       width=\"24px\">\n",
       "    <path d=\"M0 0h24v24H0V0z\" fill=\"none\"/>\n",
       "    <path d=\"M18.56 5.44l.94 2.06.94-2.06 2.06-.94-2.06-.94-.94-2.06-.94 2.06-2.06.94zm-11 1L8.5 8.5l.94-2.06 2.06-.94-2.06-.94L8.5 2.5l-.94 2.06-2.06.94zm10 10l.94 2.06.94-2.06 2.06-.94-2.06-.94-.94-2.06-.94 2.06-2.06.94z\"/><path d=\"M17.41 7.96l-1.37-1.37c-.4-.4-.92-.59-1.43-.59-.52 0-1.04.2-1.43.59L10.3 9.45l-7.72 7.72c-.78.78-.78 2.05 0 2.83L4 21.41c.39.39.9.59 1.41.59.51 0 1.02-.2 1.41-.59l7.78-7.78 2.81-2.81c.8-.78.8-2.07 0-2.86zM5.41 20L4 18.59l7.72-7.72 1.47 1.35L5.41 20z\"/>\n",
       "  </svg>\n",
       "      </button>\n",
       "      \n",
       "  <style>\n",
       "    .colab-df-container {\n",
       "      display:flex;\n",
       "      flex-wrap:wrap;\n",
       "      gap: 12px;\n",
       "    }\n",
       "\n",
       "    .colab-df-convert {\n",
       "      background-color: #E8F0FE;\n",
       "      border: none;\n",
       "      border-radius: 50%;\n",
       "      cursor: pointer;\n",
       "      display: none;\n",
       "      fill: #1967D2;\n",
       "      height: 32px;\n",
       "      padding: 0 0 0 0;\n",
       "      width: 32px;\n",
       "    }\n",
       "\n",
       "    .colab-df-convert:hover {\n",
       "      background-color: #E2EBFA;\n",
       "      box-shadow: 0px 1px 2px rgba(60, 64, 67, 0.3), 0px 1px 3px 1px rgba(60, 64, 67, 0.15);\n",
       "      fill: #174EA6;\n",
       "    }\n",
       "\n",
       "    [theme=dark] .colab-df-convert {\n",
       "      background-color: #3B4455;\n",
       "      fill: #D2E3FC;\n",
       "    }\n",
       "\n",
       "    [theme=dark] .colab-df-convert:hover {\n",
       "      background-color: #434B5C;\n",
       "      box-shadow: 0px 1px 3px 1px rgba(0, 0, 0, 0.15);\n",
       "      filter: drop-shadow(0px 1px 2px rgba(0, 0, 0, 0.3));\n",
       "      fill: #FFFFFF;\n",
       "    }\n",
       "  </style>\n",
       "\n",
       "      <script>\n",
       "        const buttonEl =\n",
       "          document.querySelector('#df-b3300ee0-86f6-47ed-95eb-31e69a608299 button.colab-df-convert');\n",
       "        buttonEl.style.display =\n",
       "          google.colab.kernel.accessAllowed ? 'block' : 'none';\n",
       "\n",
       "        async function convertToInteractive(key) {\n",
       "          const element = document.querySelector('#df-b3300ee0-86f6-47ed-95eb-31e69a608299');\n",
       "          const dataTable =\n",
       "            await google.colab.kernel.invokeFunction('convertToInteractive',\n",
       "                                                     [key], {});\n",
       "          if (!dataTable) return;\n",
       "\n",
       "          const docLinkHtml = 'Like what you see? Visit the ' +\n",
       "            '<a target=\"_blank\" href=https://colab.research.google.com/notebooks/data_table.ipynb>data table notebook</a>'\n",
       "            + ' to learn more about interactive tables.';\n",
       "          element.innerHTML = '';\n",
       "          dataTable['output_type'] = 'display_data';\n",
       "          await google.colab.output.renderOutput(dataTable, element);\n",
       "          const docLink = document.createElement('div');\n",
       "          docLink.innerHTML = docLinkHtml;\n",
       "          element.appendChild(docLink);\n",
       "        }\n",
       "      </script>\n",
       "    </div>\n",
       "  </div>\n",
       "  "
      ],
      "text/plain": [
       "     nbTrue\n",
       "3  0.377778\n",
       "4  0.266667\n",
       "5  0.188889\n",
       "2  0.100000\n",
       "6  0.033333\n",
       "1  0.033333"
      ]
     },
     "execution_count": 11,
     "metadata": {},
     "output_type": "execute_result"
    }
   ],
   "source": [
    "pd.DataFrame(\n",
    "          expDf[\"nbTrue\"]\n",
    "          .value_counts()\n",
    "          /expDf[\"nbTrue\"]\n",
    "          .shape[0])"
   ]
  },
  {
   "cell_type": "code",
   "execution_count": null,
   "metadata": {
    "id": "KdnHVp-YwOFF"
   },
   "outputs": [],
   "source": [
    "randomTrueDf=(pd.DataFrame(\n",
    "    pd.Series(pmf_true)\n",
    "    .rename(\"Null distribution\")\n",
    "    )\n",
    "  .join(\n",
    "      pd.DataFrame(\n",
    "          expDf[\"nbTrue\"]\n",
    "          .value_counts()\n",
    "          /expDf[\"nbTrue\"]\n",
    "          .shape[0]).rename({\"nbTrue\":\"Participants\"}, axis=1)\n",
    "      ))"
   ]
  },
  {
   "cell_type": "code",
   "execution_count": null,
   "metadata": {
    "id": "tOOjza4RwmPu"
   },
   "outputs": [],
   "source": [
    "randomTrueDf=pd.melt(randomTrueDf, ignore_index=False ,value_vars=randomTrueDf.columns)"
   ]
  },
  {
   "cell_type": "code",
   "execution_count": null,
   "metadata": {
    "colab": {
     "base_uri": "https://localhost:8080/",
     "height": 310
    },
    "executionInfo": {
     "elapsed": 373,
     "status": "ok",
     "timestamp": 1652462185047,
     "user": {
      "displayName": "jules herrmann",
      "userId": "12293879718260906724"
     },
     "user_tz": -120
    },
    "id": "FmSUZcLIw2jO",
    "outputId": "463bb42a-93ce-4ea3-899e-be49c5ccc96a"
   },
   "outputs": [
    {
     "data": {
      "image/png": "[encoded data removed]",
      "text/plain": [
       "<Figure size 540x288 with 1 Axes>"
      ]
     },
     "metadata": {
      "needs_background": "light"
     },
     "output_type": "display_data"
    }
   ],
   "source": [
    "plt.figure(figsize=(7.5,4))\n",
    "ax = sns.barplot(data=randomTrueDf, x=randomTrueDf.index, y='value', hue='variable', palette=['grey','#3eea9f'])\n",
    "plt.legend(bbox_to_anchor=(1.05,0.7), loc=2, borderaxespad=0.)\n",
    "ax.set(title=\"Comparison of particpants' true answers \\n compared to null distribution\")\n",
    "ax.set_xlabel(\"Number of true shapes in answer\")\n",
    "ax.set_ylabel(\"Ratio in sample\")\n",
    "plt.savefig(\"true-nb-compared-null.svg\")"
   ]
  },
  {
   "cell_type": "code",
   "execution_count": null,
   "metadata": {
    "colab": {
     "base_uri": "https://localhost:8080/",
     "height": 293
    },
    "executionInfo": {
     "elapsed": 569,
     "status": "ok",
     "timestamp": 1652462185606,
     "user": {
      "displayName": "jules herrmann",
      "userId": "12293879718260906724"
     },
     "user_tz": -120
    },
    "id": "xv9wTuPnMXTu",
    "outputId": "ca350d5c-2ced-4269-f4b3-a5fd37954ffb"
   },
   "outputs": [
    {
     "data": {
      "text/plain": [
       "<matplotlib.axes._subplots.AxesSubplot at 0x7f39bba557d0>"
      ]
     },
     "execution_count": 15,
     "metadata": {},
     "output_type": "execute_result"
    },
    {
     "data": {
      "image/png": "[encoded data removed]",
      "text/plain": [
       "<Figure size 432x288 with 1 Axes>"
      ]
     },
     "metadata": {
      "needs_background": "light"
     },
     "output_type": "display_data"
    }
   ],
   "source": [
    "(pd.DataFrame(\n",
    "    pd.Series(pmf_true)\n",
    "    .rename(\"random\")\n",
    "    )\n",
    "  .join(\n",
    "      pd.DataFrame(\n",
    "          expDf[\"nbTrue\"]\n",
    "          .value_counts()\n",
    "          /expDf[\"nbTrue\"]\n",
    "          .shape[0])\n",
    "      )\n",
    "  ).plot(kind=\"bar\",xlabel=\"# true shapes chosen\")"
   ]
  },
  {
   "cell_type": "markdown",
   "metadata": {
    "id": "9_OzQK2ELYK6"
   },
   "source": [
    "# Computing the test"
   ]
  },
  {
   "cell_type": "markdown",
   "metadata": {
    "id": "MgnLkPPyaxE6"
   },
   "source": [
    "we compute T"
   ]
  },
  {
   "cell_type": "code",
   "execution_count": null,
   "metadata": {
    "colab": {
     "base_uri": "https://localhost:8080/"
    },
    "executionInfo": {
     "elapsed": 20,
     "status": "ok",
     "timestamp": 1652462185607,
     "user": {
      "displayName": "jules herrmann",
      "userId": "12293879718260906724"
     },
     "user_tz": -120
    },
    "id": "b2IrMJqGzdy_",
    "outputId": "aca4a5e9-ffca-452d-fdae-29feec903568"
   },
   "outputs": [
    {
     "data": {
      "text/plain": [
       "0.21837947329422067"
      ]
     },
     "execution_count": 16,
     "metadata": {},
     "output_type": "execute_result"
    }
   ],
   "source": [
    "(((expDf['trueProp'] * 7).mean()-mu)/sigma)*np.sqrt(n)"
   ]
  },
  {
   "cell_type": "markdown",
   "metadata": {
    "id": "6HlbqGWua0Ts"
   },
   "source": [
    "we compute the threshold"
   ]
  },
  {
   "cell_type": "code",
   "execution_count": null,
   "metadata": {
    "colab": {
     "base_uri": "https://localhost:8080/"
    },
    "executionInfo": {
     "elapsed": 16,
     "status": "ok",
     "timestamp": 1652462185608,
     "user": {
      "displayName": "jules herrmann",
      "userId": "12293879718260906724"
     },
     "user_tz": -120
    },
    "id": "2Xm7ins-G-uI",
    "outputId": "320f0a7e-617e-4434-be2c-e5fcf5e00029"
   },
   "outputs": [
    {
     "data": {
      "text/plain": [
       "1.6448536269514722"
      ]
     },
     "execution_count": 17,
     "metadata": {},
     "output_type": "execute_result"
    }
   ],
   "source": [
    "stats.norm.ppf(1-alpha)"
   ]
  },
  {
   "cell_type": "markdown",
   "metadata": {
    "id": "3qquEb8wa387"
   },
   "source": [
    "we can see the threshold is above our test statistic, therefore, we can't reject the hypothesis that participants did better than juste guessing randomly"
   ]
  },
  {
   "cell_type": "markdown",
   "metadata": {
    "id": "aIphUBDTFBtL"
   },
   "source": [
    "# Are people helped by the fact that adjacent answer look similar\n",
    "\n",
    "We need to find the distribution of max streak we should expect if people are choosing randomly.\n",
    "\n",
    "We will compute the max streak for a lot of randomly generated data point to have the distribution expected under $H_0$"
   ]
  },
  {
   "cell_type": "markdown",
   "metadata": {
    "id": "sURbJDILFaJZ"
   },
   "source": [
    "let's import the max streak function"
   ]
  },
  {
   "cell_type": "code",
   "execution_count": null,
   "metadata": {
    "id": "xbelJ9JobGLW"
   },
   "outputs": [],
   "source": [
    "def compute_max_streak(dataFrame, condition = True, direction=\"forward\") -> int:\n",
    "  \"\"\"Condition filters for True or False i the anwsers. Can accept three direction: forward, backward, both\"\"\"\n",
    "  diffDf = [1]\n",
    "  for i in range(1,len(dataFrame)):\n",
    "      if dataFrame[\"isTrue\"].values[i] == condition:\n",
    "        diffDf.append(dataFrame[\"answerId\"].values[i] - dataFrame[\"answerId\"].values[i-1])\n",
    "      else:\n",
    "        diffDf.append(0)\n",
    "  maxStreak = currentStreak = 0\n",
    "  for d in diffDf:\n",
    "      if direction == \"both\":\n",
    "        d = np.abs(d)\n",
    "      if direction == \"backward\":\n",
    "        d += 2\n",
    "      if d == 1:\n",
    "        currentStreak += 1\n",
    "        maxStreak = max(maxStreak, currentStreak)\n",
    "      else:\n",
    "        currentStreak = 0\n",
    "  return maxStreak"
   ]
  },
  {
   "cell_type": "code",
   "execution_count": null,
   "metadata": {
    "id": "qZiNod58MqTJ"
   },
   "outputs": [],
   "source": [
    "answers = pd.DataFrame([(index,typ) for index in range(1,8) for typ in (True,False)],columns=[\"answerId\",\"isTrue\"])"
   ]
  },
  {
   "cell_type": "code",
   "execution_count": null,
   "metadata": {
    "colab": {
     "base_uri": "https://localhost:8080/"
    },
    "executionInfo": {
     "elapsed": 13,
     "status": "ok",
     "timestamp": 1652462185611,
     "user": {
      "displayName": "jules herrmann",
      "userId": "12293879718260906724"
     },
     "user_tz": -120
    },
    "id": "bacqzs1DL4Ip",
    "outputId": "520e7a1e-0f73-439f-bccb-31a31a6e6e2b"
   },
   "outputs": [
    {
     "data": {
      "text/plain": [
       "1"
      ]
     },
     "execution_count": 20,
     "metadata": {},
     "output_type": "execute_result"
    }
   ],
   "source": [
    "compute_max_streak(answers.loc[np.random.choice(answers.shape[0],7,replace = False),:],False)"
   ]
  },
  {
   "cell_type": "code",
   "execution_count": null,
   "metadata": {
    "id": "vYbDRsjjOQ7W"
   },
   "outputs": [],
   "source": [
    "answers = pd.DataFrame([(index,typ) for index in range(1,8) for typ in (True,False)],columns=[\"answerId\",\"isTrue\"])\n",
    "\n",
    "randomMaxStreak = np.empty(10000,dtype=np.int8)\n",
    "\n",
    "for i in range(len(randomMaxStreak)):\n",
    "  randomMaxStreak[i] = compute_max_streak(answers.loc[np.random.choice(answers.shape[0],7,replace = False),:],False,\"both\")"
   ]
  },
  {
   "cell_type": "code",
   "execution_count": null,
   "metadata": {
    "id": "aWG4gY1RNFRu"
   },
   "outputs": [],
   "source": [
    "\n",
    "unique, counts = np.unique(randomMaxStreak, return_counts=True)\n",
    "freqTheoretical = pd.DataFrame(counts,unique,columns = [\"maxRandomStreak\"])\n",
    "freqTheoretical[\"maxRandomStreak\"] = freqTheoretical[\"maxRandomStreak\"] / freqTheoretical[\"maxRandomStreak\"].sum()"
   ]
  },
  {
   "cell_type": "code",
   "execution_count": null,
   "metadata": {
    "id": "JH_PJN7EWs7-"
   },
   "outputs": [],
   "source": [
    "freqFalse = pd.DataFrame(\n",
    "          expDf[\"maxFalseStreakBoth\"].rename(\"False shapes\")\n",
    "          .value_counts()\n",
    "          /expDf\n",
    "          .shape[0])\n",
    "\n",
    "freqTrue = pd.DataFrame(\n",
    "          expDf[\"maxTrueStreakBoth\"].rename(\"True shapes\")\n",
    "          .value_counts()\n",
    "          /expDf\n",
    "          .shape[0])"
   ]
  },
  {
   "cell_type": "code",
   "execution_count": null,
   "metadata": {
    "id": "QqaUIOANpJu0"
   },
   "outputs": [],
   "source": [
    "freqTheoretical = freqTheoretical.rename(columns={'maxRandomStreak':'Null distribution'})"
   ]
  },
  {
   "cell_type": "code",
   "execution_count": null,
   "metadata": {
    "id": "Upec7Pf6zFWQ"
   },
   "outputs": [],
   "source": [
    "maxStreak=(freqTheoretical\n",
    "  .join(freqFalse)\n",
    "  .join(freqTrue)\n",
    "  )"
   ]
  },
  {
   "cell_type": "code",
   "execution_count": null,
   "metadata": {
    "colab": {
     "base_uri": "https://localhost:8080/",
     "height": 293
    },
    "executionInfo": {
     "elapsed": 480,
     "status": "ok",
     "timestamp": 1652462193391,
     "user": {
      "displayName": "jules herrmann",
      "userId": "12293879718260906724"
     },
     "user_tz": -120
    },
    "id": "hdW0W-5zSMgL",
    "outputId": "ea2dcba7-c7e5-4d31-bab4-bb349d89c3ec"
   },
   "outputs": [
    {
     "data": {
      "text/plain": [
       "<matplotlib.axes._subplots.AxesSubplot at 0x7f39bb9a5710>"
      ]
     },
     "execution_count": 26,
     "metadata": {},
     "output_type": "execute_result"
    },
    {
     "data": {
      "image/png": "[encoded data removed]",
      "text/plain": [
       "<Figure size 432x288 with 1 Axes>"
      ]
     },
     "metadata": {
      "needs_background": "light"
     },
     "output_type": "display_data"
    }
   ],
   "source": [
    "(freqTheoretical\n",
    "  .join(freqFalse)\n",
    "  .join(freqTrue)\n",
    "  ).plot(kind=\"bar\",xlabel=\"# true shapes chosen\")"
   ]
  },
  {
   "cell_type": "code",
   "execution_count": null,
   "metadata": {
    "id": "YxmWHw5Qz4VD"
   },
   "outputs": [],
   "source": [
    "maxStreak=pd.melt(maxStreak, ignore_index=False ,value_vars=maxStreak.columns)"
   ]
  },
  {
   "cell_type": "code",
   "execution_count": null,
   "metadata": {
    "colab": {
     "base_uri": "https://localhost:8080/",
     "height": 520
    },
    "executionInfo": {
     "elapsed": 17,
     "status": "ok",
     "timestamp": 1652462193393,
     "user": {
      "displayName": "jules herrmann",
      "userId": "12293879718260906724"
     },
     "user_tz": -120
    },
    "id": "yQw72Kak0nFb",
    "outputId": "f21914d2-b6c7-4f1b-c61b-197b978dfc6f"
   },
   "outputs": [
    {
     "data": {
      "text/html": [
       "\n",
       "  <div id=\"df-d602a83b-704d-4764-8f12-7bec76ded72c\">\n",
       "    <div class=\"colab-df-container\">\n",
       "      <div>\n",
       "<style scoped>\n",
       "    .dataframe tbody tr th:only-of-type {\n",
       "        vertical-align: middle;\n",
       "    }\n",
       "\n",
       "    .dataframe tbody tr th {\n",
       "        vertical-align: top;\n",
       "    }\n",
       "\n",
       "    .dataframe thead th {\n",
       "        text-align: right;\n",
       "    }\n",
       "</style>\n",
       "<table border=\"1\" class=\"dataframe\">\n",
       "  <thead>\n",
       "    <tr style=\"text-align: right;\">\n",
       "      <th></th>\n",
       "      <th>variable</th>\n",
       "      <th>value</th>\n",
       "    </tr>\n",
       "  </thead>\n",
       "  <tbody>\n",
       "    <tr>\n",
       "      <th>1</th>\n",
       "      <td>Null distribution</td>\n",
       "      <td>0.820500</td>\n",
       "    </tr>\n",
       "    <tr>\n",
       "      <th>2</th>\n",
       "      <td>Null distribution</td>\n",
       "      <td>0.163000</td>\n",
       "    </tr>\n",
       "    <tr>\n",
       "      <th>3</th>\n",
       "      <td>Null distribution</td>\n",
       "      <td>0.015600</td>\n",
       "    </tr>\n",
       "    <tr>\n",
       "      <th>4</th>\n",
       "      <td>Null distribution</td>\n",
       "      <td>0.000800</td>\n",
       "    </tr>\n",
       "    <tr>\n",
       "      <th>5</th>\n",
       "      <td>Null distribution</td>\n",
       "      <td>0.000100</td>\n",
       "    </tr>\n",
       "    <tr>\n",
       "      <th>1</th>\n",
       "      <td>False shapes</td>\n",
       "      <td>0.733333</td>\n",
       "    </tr>\n",
       "    <tr>\n",
       "      <th>2</th>\n",
       "      <td>False shapes</td>\n",
       "      <td>0.244444</td>\n",
       "    </tr>\n",
       "    <tr>\n",
       "      <th>3</th>\n",
       "      <td>False shapes</td>\n",
       "      <td>0.022222</td>\n",
       "    </tr>\n",
       "    <tr>\n",
       "      <th>4</th>\n",
       "      <td>False shapes</td>\n",
       "      <td>NaN</td>\n",
       "    </tr>\n",
       "    <tr>\n",
       "      <th>5</th>\n",
       "      <td>False shapes</td>\n",
       "      <td>NaN</td>\n",
       "    </tr>\n",
       "    <tr>\n",
       "      <th>1</th>\n",
       "      <td>True shapes</td>\n",
       "      <td>0.844444</td>\n",
       "    </tr>\n",
       "    <tr>\n",
       "      <th>2</th>\n",
       "      <td>True shapes</td>\n",
       "      <td>0.144444</td>\n",
       "    </tr>\n",
       "    <tr>\n",
       "      <th>3</th>\n",
       "      <td>True shapes</td>\n",
       "      <td>NaN</td>\n",
       "    </tr>\n",
       "    <tr>\n",
       "      <th>4</th>\n",
       "      <td>True shapes</td>\n",
       "      <td>0.011111</td>\n",
       "    </tr>\n",
       "    <tr>\n",
       "      <th>5</th>\n",
       "      <td>True shapes</td>\n",
       "      <td>NaN</td>\n",
       "    </tr>\n",
       "  </tbody>\n",
       "</table>\n",
       "</div>\n",
       "      <button class=\"colab-df-convert\" onclick=\"convertToInteractive('df-d602a83b-704d-4764-8f12-7bec76ded72c')\"\n",
       "              title=\"Convert this dataframe to an interactive table.\"\n",
       "              style=\"display:none;\">\n",
       "        \n",
       "  <svg xmlns=\"http://www.w3.org/2000/svg\" height=\"24px\"viewBox=\"0 0 24 24\"\n",
       "       width=\"24px\">\n",
       "    <path d=\"M0 0h24v24H0V0z\" fill=\"none\"/>\n",
       "    <path d=\"M18.56 5.44l.94 2.06.94-2.06 2.06-.94-2.06-.94-.94-2.06-.94 2.06-2.06.94zm-11 1L8.5 8.5l.94-2.06 2.06-.94-2.06-.94L8.5 2.5l-.94 2.06-2.06.94zm10 10l.94 2.06.94-2.06 2.06-.94-2.06-.94-.94-2.06-.94 2.06-2.06.94z\"/><path d=\"M17.41 7.96l-1.37-1.37c-.4-.4-.92-.59-1.43-.59-.52 0-1.04.2-1.43.59L10.3 9.45l-7.72 7.72c-.78.78-.78 2.05 0 2.83L4 21.41c.39.39.9.59 1.41.59.51 0 1.02-.2 1.41-.59l7.78-7.78 2.81-2.81c.8-.78.8-2.07 0-2.86zM5.41 20L4 18.59l7.72-7.72 1.47 1.35L5.41 20z\"/>\n",
       "  </svg>\n",
       "      </button>\n",
       "      \n",
       "  <style>\n",
       "    .colab-df-container {\n",
       "      display:flex;\n",
       "      flex-wrap:wrap;\n",
       "      gap: 12px;\n",
       "    }\n",
       "\n",
       "    .colab-df-convert {\n",
       "      background-color: #E8F0FE;\n",
       "      border: none;\n",
       "      border-radius: 50%;\n",
       "      cursor: pointer;\n",
       "      display: none;\n",
       "      fill: #1967D2;\n",
       "      height: 32px;\n",
       "      padding: 0 0 0 0;\n",
       "      width: 32px;\n",
       "    }\n",
       "\n",
       "    .colab-df-convert:hover {\n",
       "      background-color: #E2EBFA;\n",
       "      box-shadow: 0px 1px 2px rgba(60, 64, 67, 0.3), 0px 1px 3px 1px rgba(60, 64, 67, 0.15);\n",
       "      fill: #174EA6;\n",
       "    }\n",
       "\n",
       "    [theme=dark] .colab-df-convert {\n",
       "      background-color: #3B4455;\n",
       "      fill: #D2E3FC;\n",
       "    }\n",
       "\n",
       "    [theme=dark] .colab-df-convert:hover {\n",
       "      background-color: #434B5C;\n",
       "      box-shadow: 0px 1px 3px 1px rgba(0, 0, 0, 0.15);\n",
       "      filter: drop-shadow(0px 1px 2px rgba(0, 0, 0, 0.3));\n",
       "      fill: #FFFFFF;\n",
       "    }\n",
       "  </style>\n",
       "\n",
       "      <script>\n",
       "        const buttonEl =\n",
       "          document.querySelector('#df-d602a83b-704d-4764-8f12-7bec76ded72c button.colab-df-convert');\n",
       "        buttonEl.style.display =\n",
       "          google.colab.kernel.accessAllowed ? 'block' : 'none';\n",
       "\n",
       "        async function convertToInteractive(key) {\n",
       "          const element = document.querySelector('#df-d602a83b-704d-4764-8f12-7bec76ded72c');\n",
       "          const dataTable =\n",
       "            await google.colab.kernel.invokeFunction('convertToInteractive',\n",
       "                                                     [key], {});\n",
       "          if (!dataTable) return;\n",
       "\n",
       "          const docLinkHtml = 'Like what you see? Visit the ' +\n",
       "            '<a target=\"_blank\" href=https://colab.research.google.com/notebooks/data_table.ipynb>data table notebook</a>'\n",
       "            + ' to learn more about interactive tables.';\n",
       "          element.innerHTML = '';\n",
       "          dataTable['output_type'] = 'display_data';\n",
       "          await google.colab.output.renderOutput(dataTable, element);\n",
       "          const docLink = document.createElement('div');\n",
       "          docLink.innerHTML = docLinkHtml;\n",
       "          element.appendChild(docLink);\n",
       "        }\n",
       "      </script>\n",
       "    </div>\n",
       "  </div>\n",
       "  "
      ],
      "text/plain": [
       "            variable     value\n",
       "1  Null distribution  0.820500\n",
       "2  Null distribution  0.163000\n",
       "3  Null distribution  0.015600\n",
       "4  Null distribution  0.000800\n",
       "5  Null distribution  0.000100\n",
       "1       False shapes  0.733333\n",
       "2       False shapes  0.244444\n",
       "3       False shapes  0.022222\n",
       "4       False shapes       NaN\n",
       "5       False shapes       NaN\n",
       "1        True shapes  0.844444\n",
       "2        True shapes  0.144444\n",
       "3        True shapes       NaN\n",
       "4        True shapes  0.011111\n",
       "5        True shapes       NaN"
      ]
     },
     "execution_count": 28,
     "metadata": {},
     "output_type": "execute_result"
    }
   ],
   "source": [
    "maxStreak"
   ]
  },
  {
   "cell_type": "code",
   "execution_count": null,
   "metadata": {
    "id": "0uLoDdJvHEy3"
   },
   "outputs": [],
   "source": [
    "sns.set_context('poster', 0.7)\n",
    "sns.set_style('whitegrid')"
   ]
  },
  {
   "cell_type": "code",
   "execution_count": null,
   "metadata": {
    "colab": {
     "base_uri": "https://localhost:8080/"
    },
    "executionInfo": {
     "elapsed": 17,
     "status": "ok",
     "timestamp": 1652462193395,
     "user": {
      "displayName": "jules herrmann",
      "userId": "12293879718260906724"
     },
     "user_tz": -120
    },
    "id": "ckKc-W-Jbtdr",
    "outputId": "56af3a1d-2922-474f-d1f1-6a65af29a8cb"
   },
   "outputs": [
    {
     "name": "stdout",
     "output_type": "stream",
     "text": [
      "['#1f77b4', '#ff7f0e', '#2ca02c', '#d62728', '#9467bd', '#8c564b', '#e377c2', '#7f7f7f', '#bcbd22', '#17becf']\n"
     ]
    }
   ],
   "source": [
    "pal = sns.color_palette(\"tab10\")\n",
    "print(pal.as_hex())"
   ]
  },
  {
   "cell_type": "code",
   "execution_count": null,
   "metadata": {
    "colab": {
     "base_uri": "https://localhost:8080/",
     "height": 324
    },
    "executionInfo": {
     "elapsed": 551,
     "status": "ok",
     "timestamp": 1652462193935,
     "user": {
      "displayName": "jules herrmann",
      "userId": "12293879718260906724"
     },
     "user_tz": -120
    },
    "id": "NElbbBfT0VyG",
    "outputId": "d17a58d5-702d-4400-c335-cce8a7a5edb4"
   },
   "outputs": [
    {
     "data": {
      "image/png": "[encoded data removed]",
      "text/plain": [
       "<Figure size 540x288 with 1 Axes>"
      ]
     },
     "metadata": {},
     "output_type": "display_data"
    }
   ],
   "source": [
    "plt.figure(figsize=(7.5,4))\n",
    "ax = sns.barplot(data=maxStreak, x=maxStreak.index, y='value', hue='variable', palette=['grey','#e377c2','#3eea9f'])\n",
    "plt.legend(bbox_to_anchor=(1.05,0.7), loc=2, borderaxespad=0.)\n",
    "ax.set(title=\"Ratios of maximum shape streak in answer\")\n",
    "ax.set_xlabel(\"Maximum Streak\")\n",
    "ax.set_ylabel(\"Ratio of corresponding answers\")\n",
    "plt.savefig('max-streak-proportion.svg')"
   ]
  },
  {
   "cell_type": "code",
   "execution_count": null,
   "metadata": {
    "colab": {
     "base_uri": "https://localhost:8080/",
     "height": 520
    },
    "executionInfo": {
     "elapsed": 56,
     "status": "ok",
     "timestamp": 1652462193938,
     "user": {
      "displayName": "jules herrmann",
      "userId": "12293879718260906724"
     },
     "user_tz": -120
    },
    "id": "pjEeqNCQzVfI",
    "outputId": "ec6f68d3-b257-4499-c19e-5a60887b089d"
   },
   "outputs": [
    {
     "data": {
      "text/html": [
       "\n",
       "  <div id=\"df-0e0b775c-2f69-4bb5-a13c-8babe7cc0da8\">\n",
       "    <div class=\"colab-df-container\">\n",
       "      <div>\n",
       "<style scoped>\n",
       "    .dataframe tbody tr th:only-of-type {\n",
       "        vertical-align: middle;\n",
       "    }\n",
       "\n",
       "    .dataframe tbody tr th {\n",
       "        vertical-align: top;\n",
       "    }\n",
       "\n",
       "    .dataframe thead th {\n",
       "        text-align: right;\n",
       "    }\n",
       "</style>\n",
       "<table border=\"1\" class=\"dataframe\">\n",
       "  <thead>\n",
       "    <tr style=\"text-align: right;\">\n",
       "      <th></th>\n",
       "      <th>variable</th>\n",
       "      <th>value</th>\n",
       "    </tr>\n",
       "  </thead>\n",
       "  <tbody>\n",
       "    <tr>\n",
       "      <th>1</th>\n",
       "      <td>Null distribution</td>\n",
       "      <td>0.820500</td>\n",
       "    </tr>\n",
       "    <tr>\n",
       "      <th>2</th>\n",
       "      <td>Null distribution</td>\n",
       "      <td>0.163000</td>\n",
       "    </tr>\n",
       "    <tr>\n",
       "      <th>3</th>\n",
       "      <td>Null distribution</td>\n",
       "      <td>0.015600</td>\n",
       "    </tr>\n",
       "    <tr>\n",
       "      <th>4</th>\n",
       "      <td>Null distribution</td>\n",
       "      <td>0.000800</td>\n",
       "    </tr>\n",
       "    <tr>\n",
       "      <th>5</th>\n",
       "      <td>Null distribution</td>\n",
       "      <td>0.000100</td>\n",
       "    </tr>\n",
       "    <tr>\n",
       "      <th>1</th>\n",
       "      <td>False shapes</td>\n",
       "      <td>0.733333</td>\n",
       "    </tr>\n",
       "    <tr>\n",
       "      <th>2</th>\n",
       "      <td>False shapes</td>\n",
       "      <td>0.244444</td>\n",
       "    </tr>\n",
       "    <tr>\n",
       "      <th>3</th>\n",
       "      <td>False shapes</td>\n",
       "      <td>0.022222</td>\n",
       "    </tr>\n",
       "    <tr>\n",
       "      <th>4</th>\n",
       "      <td>False shapes</td>\n",
       "      <td>NaN</td>\n",
       "    </tr>\n",
       "    <tr>\n",
       "      <th>5</th>\n",
       "      <td>False shapes</td>\n",
       "      <td>NaN</td>\n",
       "    </tr>\n",
       "    <tr>\n",
       "      <th>1</th>\n",
       "      <td>True shapes</td>\n",
       "      <td>0.844444</td>\n",
       "    </tr>\n",
       "    <tr>\n",
       "      <th>2</th>\n",
       "      <td>True shapes</td>\n",
       "      <td>0.144444</td>\n",
       "    </tr>\n",
       "    <tr>\n",
       "      <th>3</th>\n",
       "      <td>True shapes</td>\n",
       "      <td>NaN</td>\n",
       "    </tr>\n",
       "    <tr>\n",
       "      <th>4</th>\n",
       "      <td>True shapes</td>\n",
       "      <td>0.011111</td>\n",
       "    </tr>\n",
       "    <tr>\n",
       "      <th>5</th>\n",
       "      <td>True shapes</td>\n",
       "      <td>NaN</td>\n",
       "    </tr>\n",
       "  </tbody>\n",
       "</table>\n",
       "</div>\n",
       "      <button class=\"colab-df-convert\" onclick=\"convertToInteractive('df-0e0b775c-2f69-4bb5-a13c-8babe7cc0da8')\"\n",
       "              title=\"Convert this dataframe to an interactive table.\"\n",
       "              style=\"display:none;\">\n",
       "        \n",
       "  <svg xmlns=\"http://www.w3.org/2000/svg\" height=\"24px\"viewBox=\"0 0 24 24\"\n",
       "       width=\"24px\">\n",
       "    <path d=\"M0 0h24v24H0V0z\" fill=\"none\"/>\n",
       "    <path d=\"M18.56 5.44l.94 2.06.94-2.06 2.06-.94-2.06-.94-.94-2.06-.94 2.06-2.06.94zm-11 1L8.5 8.5l.94-2.06 2.06-.94-2.06-.94L8.5 2.5l-.94 2.06-2.06.94zm10 10l.94 2.06.94-2.06 2.06-.94-2.06-.94-.94-2.06-.94 2.06-2.06.94z\"/><path d=\"M17.41 7.96l-1.37-1.37c-.4-.4-.92-.59-1.43-.59-.52 0-1.04.2-1.43.59L10.3 9.45l-7.72 7.72c-.78.78-.78 2.05 0 2.83L4 21.41c.39.39.9.59 1.41.59.51 0 1.02-.2 1.41-.59l7.78-7.78 2.81-2.81c.8-.78.8-2.07 0-2.86zM5.41 20L4 18.59l7.72-7.72 1.47 1.35L5.41 20z\"/>\n",
       "  </svg>\n",
       "      </button>\n",
       "      \n",
       "  <style>\n",
       "    .colab-df-container {\n",
       "      display:flex;\n",
       "      flex-wrap:wrap;\n",
       "      gap: 12px;\n",
       "    }\n",
       "\n",
       "    .colab-df-convert {\n",
       "      background-color: #E8F0FE;\n",
       "      border: none;\n",
       "      border-radius: 50%;\n",
       "      cursor: pointer;\n",
       "      display: none;\n",
       "      fill: #1967D2;\n",
       "      height: 32px;\n",
       "      padding: 0 0 0 0;\n",
       "      width: 32px;\n",
       "    }\n",
       "\n",
       "    .colab-df-convert:hover {\n",
       "      background-color: #E2EBFA;\n",
       "      box-shadow: 0px 1px 2px rgba(60, 64, 67, 0.3), 0px 1px 3px 1px rgba(60, 64, 67, 0.15);\n",
       "      fill: #174EA6;\n",
       "    }\n",
       "\n",
       "    [theme=dark] .colab-df-convert {\n",
       "      background-color: #3B4455;\n",
       "      fill: #D2E3FC;\n",
       "    }\n",
       "\n",
       "    [theme=dark] .colab-df-convert:hover {\n",
       "      background-color: #434B5C;\n",
       "      box-shadow: 0px 1px 3px 1px rgba(0, 0, 0, 0.15);\n",
       "      filter: drop-shadow(0px 1px 2px rgba(0, 0, 0, 0.3));\n",
       "      fill: #FFFFFF;\n",
       "    }\n",
       "  </style>\n",
       "\n",
       "      <script>\n",
       "        const buttonEl =\n",
       "          document.querySelector('#df-0e0b775c-2f69-4bb5-a13c-8babe7cc0da8 button.colab-df-convert');\n",
       "        buttonEl.style.display =\n",
       "          google.colab.kernel.accessAllowed ? 'block' : 'none';\n",
       "\n",
       "        async function convertToInteractive(key) {\n",
       "          const element = document.querySelector('#df-0e0b775c-2f69-4bb5-a13c-8babe7cc0da8');\n",
       "          const dataTable =\n",
       "            await google.colab.kernel.invokeFunction('convertToInteractive',\n",
       "                                                     [key], {});\n",
       "          if (!dataTable) return;\n",
       "\n",
       "          const docLinkHtml = 'Like what you see? Visit the ' +\n",
       "            '<a target=\"_blank\" href=https://colab.research.google.com/notebooks/data_table.ipynb>data table notebook</a>'\n",
       "            + ' to learn more about interactive tables.';\n",
       "          element.innerHTML = '';\n",
       "          dataTable['output_type'] = 'display_data';\n",
       "          await google.colab.output.renderOutput(dataTable, element);\n",
       "          const docLink = document.createElement('div');\n",
       "          docLink.innerHTML = docLinkHtml;\n",
       "          element.appendChild(docLink);\n",
       "        }\n",
       "      </script>\n",
       "    </div>\n",
       "  </div>\n",
       "  "
      ],
      "text/plain": [
       "            variable     value\n",
       "1  Null distribution  0.820500\n",
       "2  Null distribution  0.163000\n",
       "3  Null distribution  0.015600\n",
       "4  Null distribution  0.000800\n",
       "5  Null distribution  0.000100\n",
       "1       False shapes  0.733333\n",
       "2       False shapes  0.244444\n",
       "3       False shapes  0.022222\n",
       "4       False shapes       NaN\n",
       "5       False shapes       NaN\n",
       "1        True shapes  0.844444\n",
       "2        True shapes  0.144444\n",
       "3        True shapes       NaN\n",
       "4        True shapes  0.011111\n",
       "5        True shapes       NaN"
      ]
     },
     "execution_count": 32,
     "metadata": {},
     "output_type": "execute_result"
    }
   ],
   "source": [
    "maxStreak"
   ]
  },
  {
   "cell_type": "markdown",
   "metadata": {
    "id": "Hjy6oQ4mZVIs"
   },
   "source": [
    "Let's notate $X_i$ the maxStreak of experiment $i$.\n",
    "\n",
    "- All the $X_i$ from all groups are independent of each other\n",
    "- The the $X_i$ are ordinal,\n",
    "\n",
    "\n",
    "- Under the null hypothesis $H_0$, the distributions of both the max streak generated randomly and the max streak measured during the experiments are equal.\n",
    "- The alternative hypothesis $H_1$ is that the distributions are not equal.\n",
    "\n",
    "We can therefore use the Mann–Whitney U test, and we choose beforehand a nominal value $\\alpha = 0.05$"
   ]
  },
  {
   "cell_type": "code",
   "execution_count": null,
   "metadata": {
    "colab": {
     "base_uri": "https://localhost:8080/",
     "height": 835
    },
    "executionInfo": {
     "elapsed": 9,
     "status": "ok",
     "timestamp": 1652462217331,
     "user": {
      "displayName": "jules herrmann",
      "userId": "12293879718260906724"
     },
     "user_tz": -120
    },
    "id": "7K0eghLNbEu1",
    "outputId": "bdb37c89-bd1c-4444-eac4-60593d4ffd0e"
   },
   "outputs": [
    {
     "data": {
      "text/html": [
       "\n",
       "  <div id=\"df-5e004eaa-c073-496d-92a9-1b21fa7f16cc\">\n",
       "    <div class=\"colab-df-container\">\n",
       "      <div>\n",
       "<style scoped>\n",
       "    .dataframe tbody tr th:only-of-type {\n",
       "        vertical-align: middle;\n",
       "    }\n",
       "\n",
       "    .dataframe tbody tr th {\n",
       "        vertical-align: top;\n",
       "    }\n",
       "\n",
       "    .dataframe thead th {\n",
       "        text-align: right;\n",
       "    }\n",
       "</style>\n",
       "<table border=\"1\" class=\"dataframe\">\n",
       "  <thead>\n",
       "    <tr style=\"text-align: right;\">\n",
       "      <th></th>\n",
       "      <th>participantId</th>\n",
       "      <th>device</th>\n",
       "      <th>datasetId</th>\n",
       "      <th>pauseTime</th>\n",
       "      <th>sortingTime</th>\n",
       "      <th>time</th>\n",
       "      <th>experimentOrder</th>\n",
       "      <th>nbTrue</th>\n",
       "      <th>trueProp</th>\n",
       "      <th>maxTrueStreak</th>\n",
       "      <th>maxTrueStreakBoth</th>\n",
       "      <th>maxFalseStreakBoth</th>\n",
       "      <th>veracityScore</th>\n",
       "      <th>levenDist</th>\n",
       "    </tr>\n",
       "  </thead>\n",
       "  <tbody>\n",
       "    <tr>\n",
       "      <th>0</th>\n",
       "      <td>16</td>\n",
       "      <td>VR</td>\n",
       "      <td>1</td>\n",
       "      <td>184.909470</td>\n",
       "      <td>269.096130</td>\n",
       "      <td>2022-04-27 13:36:32</td>\n",
       "      <td>3</td>\n",
       "      <td>6</td>\n",
       "      <td>0.857143</td>\n",
       "      <td>1</td>\n",
       "      <td>1</td>\n",
       "      <td>1</td>\n",
       "      <td>0.653061</td>\n",
       "      <td>5</td>\n",
       "    </tr>\n",
       "    <tr>\n",
       "      <th>1</th>\n",
       "      <td>16</td>\n",
       "      <td>VR</td>\n",
       "      <td>2</td>\n",
       "      <td>342.400177</td>\n",
       "      <td>221.314514</td>\n",
       "      <td>2022-04-27 13:49:19</td>\n",
       "      <td>4</td>\n",
       "      <td>4</td>\n",
       "      <td>0.571429</td>\n",
       "      <td>1</td>\n",
       "      <td>1</td>\n",
       "      <td>1</td>\n",
       "      <td>0.244898</td>\n",
       "      <td>7</td>\n",
       "    </tr>\n",
       "    <tr>\n",
       "      <th>2</th>\n",
       "      <td>13</td>\n",
       "      <td>VR</td>\n",
       "      <td>2</td>\n",
       "      <td>34.628632</td>\n",
       "      <td>304.130951</td>\n",
       "      <td>2022-04-27 14:43:34</td>\n",
       "      <td>1</td>\n",
       "      <td>3</td>\n",
       "      <td>0.428571</td>\n",
       "      <td>1</td>\n",
       "      <td>1</td>\n",
       "      <td>1</td>\n",
       "      <td>0.387755</td>\n",
       "      <td>5</td>\n",
       "    </tr>\n",
       "    <tr>\n",
       "      <th>3</th>\n",
       "      <td>13</td>\n",
       "      <td>VR</td>\n",
       "      <td>1</td>\n",
       "      <td>162.141891</td>\n",
       "      <td>227.080627</td>\n",
       "      <td>2022-04-27 14:54:16</td>\n",
       "      <td>2</td>\n",
       "      <td>5</td>\n",
       "      <td>0.714286</td>\n",
       "      <td>1</td>\n",
       "      <td>1</td>\n",
       "      <td>1</td>\n",
       "      <td>0.530612</td>\n",
       "      <td>5</td>\n",
       "    </tr>\n",
       "    <tr>\n",
       "      <th>4</th>\n",
       "      <td>13</td>\n",
       "      <td>Comp</td>\n",
       "      <td>1</td>\n",
       "      <td>370.547791</td>\n",
       "      <td>247.132828</td>\n",
       "      <td>2022-04-27 15:13:53</td>\n",
       "      <td>3</td>\n",
       "      <td>3</td>\n",
       "      <td>0.428571</td>\n",
       "      <td>1</td>\n",
       "      <td>1</td>\n",
       "      <td>3</td>\n",
       "      <td>0.224490</td>\n",
       "      <td>7</td>\n",
       "    </tr>\n",
       "    <tr>\n",
       "      <th>...</th>\n",
       "      <td>...</td>\n",
       "      <td>...</td>\n",
       "      <td>...</td>\n",
       "      <td>...</td>\n",
       "      <td>...</td>\n",
       "      <td>...</td>\n",
       "      <td>...</td>\n",
       "      <td>...</td>\n",
       "      <td>...</td>\n",
       "      <td>...</td>\n",
       "      <td>...</td>\n",
       "      <td>...</td>\n",
       "      <td>...</td>\n",
       "      <td>...</td>\n",
       "    </tr>\n",
       "    <tr>\n",
       "      <th>85</th>\n",
       "      <td>15</td>\n",
       "      <td>Comp</td>\n",
       "      <td>2</td>\n",
       "      <td>9.416518</td>\n",
       "      <td>210.855438</td>\n",
       "      <td>2022-05-02 18:29:12</td>\n",
       "      <td>3</td>\n",
       "      <td>4</td>\n",
       "      <td>0.571429</td>\n",
       "      <td>1</td>\n",
       "      <td>1</td>\n",
       "      <td>1</td>\n",
       "      <td>0.326531</td>\n",
       "      <td>7</td>\n",
       "    </tr>\n",
       "    <tr>\n",
       "      <th>86</th>\n",
       "      <td>15</td>\n",
       "      <td>Comp</td>\n",
       "      <td>1</td>\n",
       "      <td>6.016559</td>\n",
       "      <td>131.948090</td>\n",
       "      <td>2022-05-02 18:34:39</td>\n",
       "      <td>4</td>\n",
       "      <td>4</td>\n",
       "      <td>0.571429</td>\n",
       "      <td>1</td>\n",
       "      <td>1</td>\n",
       "      <td>1</td>\n",
       "      <td>0.346939</td>\n",
       "      <td>7</td>\n",
       "    </tr>\n",
       "    <tr>\n",
       "      <th>87</th>\n",
       "      <td>16</td>\n",
       "      <td>Comp</td>\n",
       "      <td>1</td>\n",
       "      <td>6.350022</td>\n",
       "      <td>250.443741</td>\n",
       "      <td>2022-04-27 13:11:44</td>\n",
       "      <td>1</td>\n",
       "      <td>5</td>\n",
       "      <td>0.714286</td>\n",
       "      <td>1</td>\n",
       "      <td>2</td>\n",
       "      <td>1</td>\n",
       "      <td>0.591837</td>\n",
       "      <td>6</td>\n",
       "    </tr>\n",
       "    <tr>\n",
       "      <th>88</th>\n",
       "      <td>16</td>\n",
       "      <td>Comp</td>\n",
       "      <td>2</td>\n",
       "      <td>122.701782</td>\n",
       "      <td>260.243805</td>\n",
       "      <td>2022-04-27 13:22:12</td>\n",
       "      <td>2</td>\n",
       "      <td>2</td>\n",
       "      <td>0.285714</td>\n",
       "      <td>1</td>\n",
       "      <td>1</td>\n",
       "      <td>1</td>\n",
       "      <td>0.204082</td>\n",
       "      <td>7</td>\n",
       "    </tr>\n",
       "    <tr>\n",
       "      <th>89</th>\n",
       "      <td>13</td>\n",
       "      <td>Comp</td>\n",
       "      <td>2</td>\n",
       "      <td>97.469048</td>\n",
       "      <td>190.454712</td>\n",
       "      <td>2022-04-27 15:27:57</td>\n",
       "      <td>4</td>\n",
       "      <td>3</td>\n",
       "      <td>0.428571</td>\n",
       "      <td>1</td>\n",
       "      <td>1</td>\n",
       "      <td>1</td>\n",
       "      <td>0.285714</td>\n",
       "      <td>7</td>\n",
       "    </tr>\n",
       "  </tbody>\n",
       "</table>\n",
       "<p>90 rows × 14 columns</p>\n",
       "</div>\n",
       "      <button class=\"colab-df-convert\" onclick=\"convertToInteractive('df-5e004eaa-c073-496d-92a9-1b21fa7f16cc')\"\n",
       "              title=\"Convert this dataframe to an interactive table.\"\n",
       "              style=\"display:none;\">\n",
       "        \n",
       "  <svg xmlns=\"http://www.w3.org/2000/svg\" height=\"24px\"viewBox=\"0 0 24 24\"\n",
       "       width=\"24px\">\n",
       "    <path d=\"M0 0h24v24H0V0z\" fill=\"none\"/>\n",
       "    <path d=\"M18.56 5.44l.94 2.06.94-2.06 2.06-.94-2.06-.94-.94-2.06-.94 2.06-2.06.94zm-11 1L8.5 8.5l.94-2.06 2.06-.94-2.06-.94L8.5 2.5l-.94 2.06-2.06.94zm10 10l.94 2.06.94-2.06 2.06-.94-2.06-.94-.94-2.06-.94 2.06-2.06.94z\"/><path d=\"M17.41 7.96l-1.37-1.37c-.4-.4-.92-.59-1.43-.59-.52 0-1.04.2-1.43.59L10.3 9.45l-7.72 7.72c-.78.78-.78 2.05 0 2.83L4 21.41c.39.39.9.59 1.41.59.51 0 1.02-.2 1.41-.59l7.78-7.78 2.81-2.81c.8-.78.8-2.07 0-2.86zM5.41 20L4 18.59l7.72-7.72 1.47 1.35L5.41 20z\"/>\n",
       "  </svg>\n",
       "      </button>\n",
       "      \n",
       "  <style>\n",
       "    .colab-df-container {\n",
       "      display:flex;\n",
       "      flex-wrap:wrap;\n",
       "      gap: 12px;\n",
       "    }\n",
       "\n",
       "    .colab-df-convert {\n",
       "      background-color: #E8F0FE;\n",
       "      border: none;\n",
       "      border-radius: 50%;\n",
       "      cursor: pointer;\n",
       "      display: none;\n",
       "      fill: #1967D2;\n",
       "      height: 32px;\n",
       "      padding: 0 0 0 0;\n",
       "      width: 32px;\n",
       "    }\n",
       "\n",
       "    .colab-df-convert:hover {\n",
       "      background-color: #E2EBFA;\n",
       "      box-shadow: 0px 1px 2px rgba(60, 64, 67, 0.3), 0px 1px 3px 1px rgba(60, 64, 67, 0.15);\n",
       "      fill: #174EA6;\n",
       "    }\n",
       "\n",
       "    [theme=dark] .colab-df-convert {\n",
       "      background-color: #3B4455;\n",
       "      fill: #D2E3FC;\n",
       "    }\n",
       "\n",
       "    [theme=dark] .colab-df-convert:hover {\n",
       "      background-color: #434B5C;\n",
       "      box-shadow: 0px 1px 3px 1px rgba(0, 0, 0, 0.15);\n",
       "      filter: drop-shadow(0px 1px 2px rgba(0, 0, 0, 0.3));\n",
       "      fill: #FFFFFF;\n",
       "    }\n",
       "  </style>\n",
       "\n",
       "      <script>\n",
       "        const buttonEl =\n",
       "          document.querySelector('#df-5e004eaa-c073-496d-92a9-1b21fa7f16cc button.colab-df-convert');\n",
       "        buttonEl.style.display =\n",
       "          google.colab.kernel.accessAllowed ? 'block' : 'none';\n",
       "\n",
       "        async function convertToInteractive(key) {\n",
       "          const element = document.querySelector('#df-5e004eaa-c073-496d-92a9-1b21fa7f16cc');\n",
       "          const dataTable =\n",
       "            await google.colab.kernel.invokeFunction('convertToInteractive',\n",
       "                                                     [key], {});\n",
       "          if (!dataTable) return;\n",
       "\n",
       "          const docLinkHtml = 'Like what you see? Visit the ' +\n",
       "            '<a target=\"_blank\" href=https://colab.research.google.com/notebooks/data_table.ipynb>data table notebook</a>'\n",
       "            + ' to learn more about interactive tables.';\n",
       "          element.innerHTML = '';\n",
       "          dataTable['output_type'] = 'display_data';\n",
       "          await google.colab.output.renderOutput(dataTable, element);\n",
       "          const docLink = document.createElement('div');\n",
       "          docLink.innerHTML = docLinkHtml;\n",
       "          element.appendChild(docLink);\n",
       "        }\n",
       "      </script>\n",
       "    </div>\n",
       "  </div>\n",
       "  "
      ],
      "text/plain": [
       "    participantId device  datasetId   pauseTime  sortingTime  \\\n",
       "0              16     VR          1  184.909470   269.096130   \n",
       "1              16     VR          2  342.400177   221.314514   \n",
       "2              13     VR          2   34.628632   304.130951   \n",
       "3              13     VR          1  162.141891   227.080627   \n",
       "4              13   Comp          1  370.547791   247.132828   \n",
       "..            ...    ...        ...         ...          ...   \n",
       "85             15   Comp          2    9.416518   210.855438   \n",
       "86             15   Comp          1    6.016559   131.948090   \n",
       "87             16   Comp          1    6.350022   250.443741   \n",
       "88             16   Comp          2  122.701782   260.243805   \n",
       "89             13   Comp          2   97.469048   190.454712   \n",
       "\n",
       "                   time  experimentOrder  nbTrue  trueProp  maxTrueStreak  \\\n",
       "0   2022-04-27 13:36:32                3       6  0.857143              1   \n",
       "1   2022-04-27 13:49:19                4       4  0.571429              1   \n",
       "2   2022-04-27 14:43:34                1       3  0.428571              1   \n",
       "3   2022-04-27 14:54:16                2       5  0.714286              1   \n",
       "4   2022-04-27 15:13:53                3       3  0.428571              1   \n",
       "..                  ...              ...     ...       ...            ...   \n",
       "85  2022-05-02 18:29:12                3       4  0.571429              1   \n",
       "86  2022-05-02 18:34:39                4       4  0.571429              1   \n",
       "87  2022-04-27 13:11:44                1       5  0.714286              1   \n",
       "88  2022-04-27 13:22:12                2       2  0.285714              1   \n",
       "89  2022-04-27 15:27:57                4       3  0.428571              1   \n",
       "\n",
       "    maxTrueStreakBoth  maxFalseStreakBoth  veracityScore  levenDist  \n",
       "0                   1                   1       0.653061          5  \n",
       "1                   1                   1       0.244898          7  \n",
       "2                   1                   1       0.387755          5  \n",
       "3                   1                   1       0.530612          5  \n",
       "4                   1                   3       0.224490          7  \n",
       "..                ...                 ...            ...        ...  \n",
       "85                  1                   1       0.326531          7  \n",
       "86                  1                   1       0.346939          7  \n",
       "87                  2                   1       0.591837          6  \n",
       "88                  1                   1       0.204082          7  \n",
       "89                  1                   1       0.285714          7  \n",
       "\n",
       "[90 rows x 14 columns]"
      ]
     },
     "execution_count": 36,
     "metadata": {},
     "output_type": "execute_result"
    }
   ],
   "source": [
    "expDf"
   ]
  },
  {
   "cell_type": "code",
   "execution_count": null,
   "metadata": {
    "colab": {
     "base_uri": "https://localhost:8080/"
    },
    "executionInfo": {
     "elapsed": 387,
     "status": "ok",
     "timestamp": 1652462444550,
     "user": {
      "displayName": "jules herrmann",
      "userId": "12293879718260906724"
     },
     "user_tz": -120
    },
    "id": "Mxpp6yQ5TtnE",
    "outputId": "02193743-045a-454e-a317-a2453ebb854a"
   },
   "outputs": [
    {
     "name": "stdout",
     "output_type": "stream",
     "text": [
      "RandomMaxStreak : 1.197, MeasuredMaxStreak : 1.288888888888889, p-value : 0.01669843339280403\n"
     ]
    }
   ],
   "source": [
    "serie1 = randomMaxStreak\n",
    "serie2 = expDf[\"maxFalseStreakBoth\"]\n",
    "\n",
    "U1, p = stats.mannwhitneyu(serie1, serie2,alternative=\"less\")\n",
    "\n",
    "print(f\"RandomMaxStreak : {serie1.mean()}, MeasuredMaxStreak : {serie2.mean()}, p-value : {p}\")"
   ]
  },
  {
   "cell_type": "code",
   "execution_count": null,
   "metadata": {
    "colab": {
     "base_uri": "https://localhost:8080/"
    },
    "executionInfo": {
     "elapsed": 6,
     "status": "ok",
     "timestamp": 1652462557911,
     "user": {
      "displayName": "jules herrmann",
      "userId": "12293879718260906724"
     },
     "user_tz": -120
    },
    "id": "eNH8r-JicN2p",
    "outputId": "616307fa-32ba-4ae2-ed7b-d97388d61c9c"
   },
   "outputs": [
    {
     "name": "stdout",
     "output_type": "stream",
     "text": [
      "RandomMaxStreak : 1.197, MeasuredMaxStreak : 1.1777777777777778, p-value : 0.2748025806886984\n"
     ]
    }
   ],
   "source": [
    "serie1 = randomMaxStreak\n",
    "serie2 = expDf[\"maxTrueStreakBoth\"]\n",
    "\n",
    "U1, p = stats.mannwhitneyu(serie1, serie2)\n",
    "\n",
    "print(f\"RandomMaxStreak : {serie1.mean()}, MeasuredMaxStreak : {serie2.mean()}, p-value : {p}\")"
   ]
  },
  {
   "cell_type": "markdown",
   "metadata": {
    "id": "pCrShDGyajci"
   },
   "source": [
    "it seems that the measured max streaks are bigger than the random one, suggesting that participants were able to sort even the false shapes, probably using the fact that chronologically adjacent shapes are generally similar. However, this result is not significant, so we need further experiments to confirm this."
   ]
  },
  {
   "cell_type": "code",
   "execution_count": null,
   "metadata": {
    "id": "gF1FekDZaXFl"
   },
   "outputs": [],
   "source": []
  }
 ],
 "metadata": {
  "colab": {
   "collapsed_sections": [],
   "name": "01-controlling-the-difficulty.ipynb",
   "provenance": []
  },
  "kernelspec": {
   "display_name": "Python 3",
   "language": "python",
   "name": "python3"
  },
  "language_info": {
   "codemirror_mode": {
    "name": "ipython",
    "version": 3
   },
   "file_extension": ".py",
   "mimetype": "text/x-python",
   "name": "python",
   "nbconvert_exporter": "python",
   "pygments_lexer": "ipython3",
   "version": "3.8.10"
  }
 },
 "nbformat": 4,
 "nbformat_minor": 4
}
